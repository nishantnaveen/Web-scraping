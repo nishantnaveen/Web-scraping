{
 "cells": [
  {
   "cell_type": "markdown",
   "id": "0cc1226e",
   "metadata": {},
   "source": [
    "# Scraping headers from wikipedia.org"
   ]
  },
  {
   "cell_type": "code",
   "execution_count": 5,
   "id": "3a43d786",
   "metadata": {},
   "outputs": [
    {
     "data": {
      "text/plain": [
       "<Response [200]>"
      ]
     },
     "execution_count": 5,
     "metadata": {},
     "output_type": "execute_result"
    }
   ],
   "source": [
    "# importing libraries\n",
    "import requests \n",
    "import bs4\n",
    "from bs4 import BeautifulSoup as bs\n",
    "\n",
    "\n",
    "page=requests.get('https://www.wikipedia.org/')\n",
    "\n",
    "page"
   ]
  },
  {
   "cell_type": "code",
   "execution_count": 6,
   "id": "83051165",
   "metadata": {},
   "outputs": [
    {
     "name": "stdout",
     "output_type": "stream",
     "text": [
      "['Wikipedia'] ['1\\xa0000\\xa0000+articles', '100\\xa0000+articles', '10\\xa0000+articles', '1\\xa0000+articles', '100+articles'] ['  Wikipedia  The Free Encyclopedia ']\n"
     ]
    }
   ],
   "source": [
    "header= bs(page.content)\n",
    "\n",
    "header1= [] \n",
    "header2=[]\n",
    "header3=[]\n",
    "\n",
    "# iterating different tags and classes to each empty header lists\n",
    "for i in header.find_all('span',class_=\"central-textlogo__image sprite svg-Wikipedia_wordmark\"):\n",
    "    i=i.text.replace('\\n', \"\")\n",
    "    header1.append(i)\n",
    "\n",
    "for h in header.find_all('h2', class_=\"bookshelf-container\"):\n",
    "    header2.append(h.text.replace('\\n', ''))\n",
    "\n",
    "for e in header.find_all('h1', class_=\"central-textlogo-wrapper\"):\n",
    "    header3.append(e.text.replace('\\n', ' '))\n",
    "    \n",
    "print(header1, header2, header3)"
   ]
  },
  {
   "cell_type": "code",
   "execution_count": null,
   "id": "b37df08f",
   "metadata": {},
   "outputs": [],
   "source": []
  }
 ],
 "metadata": {
  "kernelspec": {
   "display_name": "Python 3 (ipykernel)",
   "language": "python",
   "name": "python3"
  },
  "language_info": {
   "codemirror_mode": {
    "name": "ipython",
    "version": 3
   },
   "file_extension": ".py",
   "mimetype": "text/x-python",
   "name": "python",
   "nbconvert_exporter": "python",
   "pygments_lexer": "ipython3",
   "version": "3.9.12"
  }
 },
 "nbformat": 4,
 "nbformat_minor": 5
}
